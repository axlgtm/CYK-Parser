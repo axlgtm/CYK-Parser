{
 "cells": [
  {
   "cell_type": "code",
   "execution_count": 1,
   "id": "aa7c6f0c-9ccb-47a1-8668-56f7e88478b5",
   "metadata": {},
   "outputs": [],
   "source": [
    "from cyk import check_cnf_form,cyk"
   ]
  },
  {
   "cell_type": "markdown",
   "id": "9fcab0ca-9348-45d7-90a5-0fb81e9d7b5d",
   "metadata": {
    "tags": []
   },
   "source": [
    "# Uji coba 1\n",
    "## cfg\n",
    "- S -> AB\n",
    "- A -> CD | CF\n",
    "- B -> c | EB\n",
    "- C -> a\n",
    "- D -> b\n",
    "- E -> c\n",
    "- F -> AD\n",
    "- String = 'aabbcc'"
   ]
  },
  {
   "cell_type": "code",
   "execution_count": 2,
   "id": "5a960c21-1501-4a0d-b327-63ceff1c375a",
   "metadata": {},
   "outputs": [
    {
     "name": "stdout",
     "output_type": "stream",
     "text": [
      "[['C'], ['C'], ['D'], ['D'], ['B', 'E'], ['B', 'E']]\n",
      "[[], ['A'], [], [], ['B'], 0]\n",
      "[[], ['F'], [], [], 0, 0]\n",
      "[['A'], [], [], 0, 0, 0]\n",
      "[['S'], [], 0, 0, 0, 0]\n",
      "[['S'], 0, 0, 0, 0, 0]\n",
      "can string aabbcc derived from cfg ? True\n"
     ]
    }
   ],
   "source": [
    "# percobaan 1\n",
    "cfg = {\n",
    "    \"S\":[\"AB\"],\n",
    "    \"A\":[\"CD\",\"CF\"],\n",
    "    \"B\":[\"c\",\"EB\"],\n",
    "    \"C\":[\"a\"],\n",
    "    \"D\":[\"b\"],\n",
    "    \"E\":[\"c\"],\n",
    "    \"F\":[\"AD\"]\n",
    "}\n",
    "string = 'aabbcc'\n",
    "cekcnf = check_cnf_form(cfg)\n",
    "if cekcnf:\n",
    "    result,table = cyk(cfg,string)\n",
    "    for i in range(len(string)):\n",
    "        print(table[i])\n",
    "    print('can string {} derived from cfg ? {}'.format(string,result)) "
   ]
  },
  {
   "cell_type": "markdown",
   "id": "d74cc8f9-059e-4d89-814e-941e4c3ba2d9",
   "metadata": {},
   "source": [
    "- String = 'aabbbcc'"
   ]
  },
  {
   "cell_type": "code",
   "execution_count": 4,
   "id": "9934c4d9-cb47-4ee4-991d-5c1169c04aa0",
   "metadata": {},
   "outputs": [
    {
     "name": "stdout",
     "output_type": "stream",
     "text": [
      "[['C'], ['C'], ['D'], ['D'], ['D'], ['B', 'E'], ['B', 'E']]\n",
      "[[], ['A'], [], [], [], ['B'], 0]\n",
      "[[], ['F'], [], [], [], 0, 0]\n",
      "[['A'], [], [], [], 0, 0, 0]\n",
      "[['F'], [], [], 0, 0, 0, 0]\n",
      "[[], [], 0, 0, 0, 0, 0]\n",
      "[[], 0, 0, 0, 0, 0, 0]\n",
      "can string aabbbcc derived from cfg ? False\n"
     ]
    }
   ],
   "source": [
    "# percobaan 2\n",
    "cfg = {\n",
    "    \"S\":[\"AB\"],\n",
    "    \"A\":[\"CD\",\"CF\"],\n",
    "    \"B\":[\"c\",\"EB\"],\n",
    "    \"C\":[\"a\"],\n",
    "    \"D\":[\"b\"],\n",
    "    \"E\":[\"c\"],\n",
    "    \"F\":[\"AD\"]\n",
    "}\n",
    "string = 'aabbbcc'\n",
    "cekcnf = check_cnf_form(cfg)\n",
    "if cekcnf:\n",
    "    result,table = cyk(cfg,string)\n",
    "    for i in range(len(string)):\n",
    "        print(table[i])\n",
    "    print('can string {} derived from cfg ? {}'.format(string,result))\n",
    "else:\n",
    "    print(\"cfg isn't in cnf form\")"
   ]
  },
  {
   "cell_type": "markdown",
   "id": "aeabb05c-8ecb-4f10-a0c1-c25f7bd3a2d3",
   "metadata": {},
   "source": [
    "# cfg tidak dalam format cnf\n",
    "## cfg\n",
    "- S -> AB | ab\n",
    "- A -> CD | CF\n",
    "- B -> c | EB\n",
    "- C -> a\n",
    "- D -> b\n",
    "- E -> c\n",
    "- F -> AD\n",
    "- String = 'aabbcc'"
   ]
  },
  {
   "cell_type": "code",
   "execution_count": 3,
   "id": "e5ae8b8a-08ba-4cae-a054-b1dcf5d13fe7",
   "metadata": {},
   "outputs": [
    {
     "name": "stdout",
     "output_type": "stream",
     "text": [
      "cfg isn't in cnf form\n"
     ]
    }
   ],
   "source": [
    "cfg = {\n",
    "    \"S\":[\"AB\",\"ab\"],\n",
    "    \"A\":[\"CD\",\"CF\"],\n",
    "    \"B\":[\"c\",\"EB\"],\n",
    "    \"C\":[\"a\"],\n",
    "    \"D\":[\"b\"],\n",
    "    \"E\":[\"c\"],\n",
    "    \"F\":[\"AD\"]\n",
    "}\n",
    "string = 'aabbbcc'\n",
    "cekcnf = check_cnf_form(cfg)\n",
    "if cekcnf:\n",
    "    result,table = cyk(cfg,string)\n",
    "    for i in range(len(string)):\n",
    "        print(table[i])\n",
    "    print('can string {} derived from cfg ? {}'.format(string,result))\n",
    "else:\n",
    "    print(\"cfg isn't in cnf form\")"
   ]
  }
 ],
 "metadata": {
  "kernelspec": {
   "display_name": "Python 3 (ipykernel)",
   "language": "python",
   "name": "python3"
  },
  "language_info": {
   "codemirror_mode": {
    "name": "ipython",
    "version": 3
   },
   "file_extension": ".py",
   "mimetype": "text/x-python",
   "name": "python",
   "nbconvert_exporter": "python",
   "pygments_lexer": "ipython3",
   "version": "3.10.1"
  }
 },
 "nbformat": 4,
 "nbformat_minor": 5
}
